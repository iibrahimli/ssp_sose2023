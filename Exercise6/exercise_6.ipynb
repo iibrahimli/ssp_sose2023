{
 "cells": [
  {
   "cell_type": "markdown",
   "metadata": {},
   "source": [
    "# Exercise 6: Speech Enhancement"
   ]
  },
  {
   "cell_type": "code",
   "execution_count": 1,
   "metadata": {},
   "outputs": [],
   "source": [
    "from typing import Tuple\n",
    "\n",
    "import librosa\n",
    "import numpy as np\n",
    "import matplotlib.pyplot as plt\n",
    "from scipy.signal import get_window, lfilter\n",
    "from scipy.linalg import solve_toeplitz\n",
    "from IPython.display import Audio\n",
    "import math\n",
    "\n",
    "\n",
    "%matplotlib inline\n",
    "plt.rcParams[\"figure.figsize\"] = (11, 4)"
   ]
  },
  {
   "cell_type": "code",
   "execution_count": 2,
   "metadata": {},
   "outputs": [
    {
     "name": "stdout",
     "output_type": "stream",
     "text": [
      "Downloaded import_funcs.py\n",
      "Found exercise1.ipynb: C:\\Users\\Natia_Mestvirishvili\\Desktop\\UHH\\SSP\\ssp_sose2023\\Exercise1\\exercise1.ipynb\n",
      "Executed function plot_signal\n",
      "Executed function my_windowing\n",
      "Executed function acf\n",
      "Executed function estimate_fundamental_frequency\n",
      "Successfully imported functions: ['plot_signal', 'my_windowing', 'acf', 'estimate_fundamental_frequency']\n",
      "Found exercise2.ipynb: C:\\Users\\Natia_Mestvirishvili\\Desktop\\UHH\\SSP\\ssp_sose2023\\Exercise2\\exercise2.ipynb\n",
      "Executed function compute_stft\n",
      "Successfully imported functions: ['compute_stft']\n",
      "Found exercise3.ipynb: C:\\Users\\Natia_Mestvirishvili\\Desktop\\UHH\\SSP\\ssp_sose2023\\Exercise3\\exercise3.ipynb\n",
      "Executed function estimate_filter\n",
      "Executed function plot_dft\n",
      "Successfully imported functions: ['estimate_filter', 'plot_dft']\n"
     ]
    }
   ],
   "source": [
    "# \"Import\" functions from previous exercises\n",
    "\n",
    "import requests\n",
    "\n",
    "gist = requests.get(\n",
    "    \"https://gist.githubusercontent.com/iibrahimli/3c50f73020c78aeee1de68ae5a0ba5e7/raw/import_funcs.py\"\n",
    ").text\n",
    "print(\"Downloaded import_funcs.py\")\n",
    "exec(gist)\n",
    "\n",
    "import_function_from_ipynb(\n",
    "    \"exercise1.ipynb\",\n",
    "    [\n",
    "        \"plot_signal\",\n",
    "        \"my_windowing\",\n",
    "        \"acf\",\n",
    "        \"estimate_fundamental_frequency\",\n",
    "    ],\n",
    ")\n",
    "import_function_from_ipynb(\n",
    "    \"exercise2.ipynb\",\n",
    "    [\n",
    "        \"compute_stft\",\n",
    "    ]\n",
    ")\n",
    "import_function_from_ipynb(\n",
    "    \"exercise3.ipynb\",\n",
    "    [\n",
    "        \"estimate_filter\",\n",
    "        \"plot_dft\",\n",
    "    ]\n",
    ")"
   ]
  },
  {
   "cell_type": "markdown",
   "metadata": {},
   "source": [
    "## 1 Noise Power Estimation"
   ]
  },
  {
   "cell_type": "code",
   "execution_count": 3,
   "metadata": {},
   "outputs": [
    {
     "name": "stdout",
     "output_type": "stream",
     "text": [
      "Samples: 69466, sampling frequency: 16000 Hz\n"
     ]
    }
   ],
   "source": [
    "x_white, fs = librosa.core.load(\"AudioFiles/SpeechWhite.wav\", sr=None)\n",
    "print(f\"Samples: {len(x_white)}, sampling frequency: {fs} Hz\")"
   ]
  },
  {
   "cell_type": "code",
   "execution_count": 4,
   "metadata": {},
   "outputs": [
    {
     "name": "stdout",
     "output_type": "stream",
     "text": [
      "Samples: 69466, sampling frequency: 16000 Hz\n"
     ]
    }
   ],
   "source": [
    "x_babble, fs = librosa.core.load(\"AudioFiles/SpeechBabble.wav\", sr=None)\n",
    "print(f\"Samples: {len(x_babble)}, sampling frequency: {fs} Hz\")"
   ]
  },
  {
   "cell_type": "code",
   "execution_count": 5,
   "metadata": {},
   "outputs": [
    {
     "name": "stdout",
     "output_type": "stream",
     "text": [
      "Output matches np.fft.rfft: True\n"
     ]
    }
   ],
   "source": [
    "# Compute STFT with \n",
    "frame_length = 32\n",
    "frame_shift = 16\n",
    "sqrt_hann = np.sqrt(get_window(\"hann\", frame_length * fs // 1000))\n",
    "m_stft, v_freq, frame_centers = compute_stft(x_white, fs, frame_length, frame_shift, sqrt_hann)"
   ]
  },
  {
   "cell_type": "code",
   "execution_count": 6,
   "metadata": {},
   "outputs": [],
   "source": [
    "# Compute periodogram of speech signal\n",
    "periodogram = np.square(m_stft) # idk?\n",
    "\n",
    "# Initialize empty matrices\n",
    "periodogram_noise_sq = np.zeros((m_stft.shape[0], m_stft.shape[1]))\n",
    "m_spp =  np.zeros((m_stft.shape[0], m_stft.shape[1]))\n",
    "m_noise_psd = np.zeros((m_stft.shape[0], m_stft.shape[1]))\n",
    "Q = np.zeros((m_stft.shape[0], m_stft.shape[1]))"
   ]
  },
  {
   "cell_type": "code",
   "execution_count": 7,
   "metadata": {},
   "outputs": [],
   "source": [
    "theta = 15\n",
    "init_sigma_hat = 0.99\n",
    "init_Q = 0.01"
   ]
  },
  {
   "cell_type": "code",
   "execution_count": 8,
   "metadata": {},
   "outputs": [
    {
     "name": "stderr",
     "output_type": "stream",
     "text": [
      "C:\\Users\\Natia_Mestvirishvili\\AppData\\Local\\Temp\\ipykernel_26316\\1979310301.py:3: ComplexWarning: Casting complex values to real discards the imaginary part\n",
      "  Y_k_l_squared = math.pow(periodogram[k][l], 2)\n"
     ]
    }
   ],
   "source": [
    "for l in range(0, periodogram.shape[1]):\n",
    "    for k in range(0, periodogram.shape[0]):\n",
    "        Y_k_l_squared = math.pow(periodogram[k][l], 2)\n",
    "        if (l==0):\n",
    "            sigma_hat_sq = init_sigma_hat\n",
    "        else:\n",
    "            sigma_hat_sq = m_noise_psd[k][l-1]\n",
    "        \n",
    "        p =  math.pow((math.exp(-1 * Y_k_l_squared * theta / (sigma_hat_sq * (1 + theta))) * (1 + theta) + 1), -1)\n",
    "        if (l==0):\n",
    "            Q_k_l = init_Q\n",
    "        else:\n",
    "            Q_k_l = 0.9 * Q[k][l-1] + 0.1 * p\n",
    "        \n",
    "        if (Q_k_l > 0.99):\n",
    "            p = min(0.99, p)\n",
    "        m_spp[k][l] = p\n",
    "        \n",
    "        periodogram_noise_sq[k][l] = p * sigma_hat_sq + (1 - p) * abs(Y_k_l_squared)\n",
    "        m_noise_psd[k][l] = 0.8 * sigma_hat_sq + 0.2 * periodogram_noise_sq[k][l]\n",
    "        "
   ]
  },
  {
   "cell_type": "code",
   "execution_count": 9,
   "metadata": {},
   "outputs": [
    {
     "data": {
      "text/plain": [
       "array([[0.06003583, 0.10429186, 0.08574982, ..., 1.        , 0.05919796,\n",
       "        1.        ],\n",
       "       [0.06062116, 0.05882356, 0.0600817 , ..., 1.        , 0.14277548,\n",
       "        0.06814633],\n",
       "       [0.64638109, 0.06887647, 0.06045407, ..., 0.99848228, 0.53760215,\n",
       "        1.        ],\n",
       "       ...,\n",
       "       [0.08824805, 0.05986768, 0.05882354, ..., 0.13605715, 1.        ,\n",
       "        0.99979477],\n",
       "       [0.12747706, 0.06103337, 0.06273416, ..., 1.        , 0.28738989,\n",
       "        0.05885794],\n",
       "       [0.16195742, 0.05883571, 0.0600112 , ..., 1.        , 1.        ,\n",
       "        0.93044395]])"
      ]
     },
     "execution_count": 9,
     "metadata": {},
     "output_type": "execute_result"
    }
   ],
   "source": [
    "m_spp"
   ]
  },
  {
   "cell_type": "code",
   "execution_count": 10,
   "metadata": {},
   "outputs": [],
   "source": [
    "# TODO Plot speech presence probabilit\n",
    "# TODO Plot estimated noise PSD "
   ]
  },
  {
   "cell_type": "markdown",
   "metadata": {},
   "source": [
    "## 2 Priori SNR estimation and Wiener filtering"
   ]
  },
  {
   "cell_type": "code",
   "execution_count": 11,
   "metadata": {},
   "outputs": [
    {
     "name": "stderr",
     "output_type": "stream",
     "text": [
      "C:\\Users\\Natia_Mestvirishvili\\AppData\\Local\\Temp\\ipykernel_26316\\1371472239.py:16: ComplexWarning: Casting complex values to real discards the imaginary part\n",
      "  priori += (1-alpha)*max((math.pow(periodogram[k][l],2)/m_noise_psd[k][l] - 1),0) # max among what? weird\n",
      "C:\\Users\\Natia_Mestvirishvili\\AppData\\Local\\Temp\\ipykernel_26316\\1371472239.py:19: ComplexWarning: Casting complex values to real discards the imaginary part\n",
      "  m_enhanced_stft[k][l] = G * periodogram[k][l]\n"
     ]
    }
   ],
   "source": [
    "m_enhanced_stft = np.zeros((m_stft.shape[0], m_stft.shape[1]))\n",
    "init_S = 0 # TODO IDK how to init this\n",
    "priori_estimates = np.zeros((m_stft.shape[0], m_stft.shape[1]))\n",
    "\n",
    "alpha = 0.5\n",
    "G_min = 0\n",
    "\n",
    "for l in range(0, priori_estimates.shape[1]):\n",
    "    for k in range(0, priori_estimates.shape[0]):\n",
    "        if (l==0):\n",
    "            S = init_S\n",
    "        else:\n",
    "            S = math.pow(abs(m_enhanced_stft[k][l-1]), 2)\n",
    "        \n",
    "        priori = alpha * S / m_noise_psd[k][l-1]\n",
    "        priori += (1-alpha)*max((math.pow(periodogram[k][l],2)/m_noise_psd[k][l] - 1),0)\n",
    "        \n",
    "        G = max(priori/(1+priori), G_min)\n",
    "        m_enhanced_stft[k][l] = G * periodogram[k][l]\n",
    "        "
   ]
  },
  {
   "cell_type": "code",
   "execution_count": null,
   "metadata": {},
   "outputs": [],
   "source": []
  }
 ],
 "metadata": {
  "kernelspec": {
   "display_name": "Python 3 (ipykernel)",
   "language": "python",
   "name": "python3"
  },
  "language_info": {
   "codemirror_mode": {
    "name": "ipython",
    "version": 3
   },
   "file_extension": ".py",
   "mimetype": "text/x-python",
   "name": "python",
   "nbconvert_exporter": "python",
   "pygments_lexer": "ipython3",
   "version": "3.10.9"
  }
 },
 "nbformat": 4,
 "nbformat_minor": 2
}
