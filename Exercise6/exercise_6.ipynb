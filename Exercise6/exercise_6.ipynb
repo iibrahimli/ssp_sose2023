{
 "cells": [
  {
   "attachments": {},
   "cell_type": "markdown",
   "metadata": {},
   "source": [
    "# Exercise 6: Speech Enhancement"
   ]
  },
  {
   "cell_type": "code",
   "execution_count": 1,
   "metadata": {},
   "outputs": [],
   "source": [
    "from typing import Tuple\n",
    "\n",
    "import librosa\n",
    "import numpy as np\n",
    "import matplotlib.pyplot as plt\n",
    "from scipy.signal import get_window, lfilter\n",
    "from scipy.linalg import solve_toeplitz\n",
    "from IPython.display import Audio\n",
    "\n",
    "\n",
    "%matplotlib inline\n",
    "plt.rcParams[\"figure.figsize\"] = (11, 4)"
   ]
  },
  {
   "cell_type": "code",
   "execution_count": 2,
   "metadata": {},
   "outputs": [
    {
     "name": "stdout",
     "output_type": "stream",
     "text": [
      "Downloaded import_funcs.py\n",
      "Found exercise1.ipynb: /Users/imran/Desktop/studies/suse_23/speech_sp/Exercise1/exercise1.ipynb\n",
      "Executed function plot_signal\n",
      "Executed function my_windowing\n",
      "Executed function acf\n",
      "Executed function estimate_fundamental_frequency\n",
      "Successfully imported functions: ['plot_signal', 'my_windowing', 'acf', 'estimate_fundamental_frequency']\n",
      "Found exercise2.ipynb: /Users/imran/Desktop/studies/suse_23/speech_sp/Exercise2/exercise2.ipynb\n",
      "Executed function compute_stft\n",
      "Successfully imported functions: ['compute_stft']\n",
      "Found exercise3.ipynb: /Users/imran/Desktop/studies/suse_23/speech_sp/Exercise3/exercise3.ipynb\n",
      "Executed function estimate_filter\n",
      "Executed function plot_dft\n",
      "Successfully imported functions: ['estimate_filter', 'plot_dft']\n"
     ]
    }
   ],
   "source": [
    "# \"Import\" functions from previous exercises\n",
    "\n",
    "import requests\n",
    "\n",
    "gist = requests.get(\n",
    "    \"https://gist.githubusercontent.com/iibrahimli/3c50f73020c78aeee1de68ae5a0ba5e7/raw/import_funcs.py\"\n",
    ").text\n",
    "print(\"Downloaded import_funcs.py\")\n",
    "exec(gist)\n",
    "\n",
    "import_function_from_ipynb(\n",
    "    \"exercise1.ipynb\",\n",
    "    [\n",
    "        \"plot_signal\",\n",
    "        \"my_windowing\",\n",
    "        \"acf\",\n",
    "        \"estimate_fundamental_frequency\",\n",
    "    ],\n",
    ")\n",
    "import_function_from_ipynb(\n",
    "    \"exercise2.ipynb\",\n",
    "    [\n",
    "        \"compute_stft\",\n",
    "    ]\n",
    ")\n",
    "import_function_from_ipynb(\n",
    "    \"exercise3.ipynb\",\n",
    "    [\n",
    "        \"estimate_filter\",\n",
    "        \"plot_dft\",\n",
    "    ]\n",
    ")"
   ]
  },
  {
   "attachments": {},
   "cell_type": "markdown",
   "metadata": {},
   "source": [
    "## 1 Noise Power Estimation"
   ]
  },
  {
   "cell_type": "code",
   "execution_count": 4,
   "metadata": {},
   "outputs": [
    {
     "name": "stdout",
     "output_type": "stream",
     "text": [
      "Samples: 69466, sampling frequency: 16000 Hz\n"
     ]
    }
   ],
   "source": [
    "x_white, fs = librosa.core.load(\"AudioFiles/SpeechWhite.wav\", sr=None)\n",
    "print(f\"Samples: {len(x_white)}, sampling frequency: {fs} Hz\")"
   ]
  },
  {
   "cell_type": "code",
   "execution_count": 5,
   "metadata": {},
   "outputs": [
    {
     "name": "stdout",
     "output_type": "stream",
     "text": [
      "Samples: 69466, sampling frequency: 16000 Hz\n"
     ]
    }
   ],
   "source": [
    "x_babble, fs = librosa.core.load(\"AudioFiles/SpeechBabble.wav\", sr=None)\n",
    "print(f\"Samples: {len(x_babble)}, sampling frequency: {fs} Hz\")"
   ]
  },
  {
   "cell_type": "code",
   "execution_count": null,
   "metadata": {},
   "outputs": [],
   "source": [
    "# Compute STFT with "
   ]
  }
 ],
 "metadata": {
  "kernelspec": {
   "display_name": "dl_venv",
   "language": "python",
   "name": "python3"
  },
  "language_info": {
   "codemirror_mode": {
    "name": "ipython",
    "version": 3
   },
   "file_extension": ".py",
   "mimetype": "text/x-python",
   "name": "python",
   "nbconvert_exporter": "python",
   "pygments_lexer": "ipython3",
   "version": "3.9.12"
  },
  "orig_nbformat": 4
 },
 "nbformat": 4,
 "nbformat_minor": 2
}
