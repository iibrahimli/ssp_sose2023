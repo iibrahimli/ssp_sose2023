{
 "cells": [
  {
   "cell_type": "code",
   "execution_count": 1,
   "metadata": {},
   "outputs": [],
   "source": [
    "import numpy as np\n",
    "import librosa\n",
    "import matplotlib.pyplot as plt\n",
    "\n",
    "%matplotlib inline\n",
    "plt.rcParams[\"figure.figsize\"] = (14, 5)"
   ]
  },
  {
   "cell_type": "code",
   "execution_count": 45,
   "metadata": {},
   "outputs": [],
   "source": [
    "def my_windowing(\n",
    "    v_signal: np.ndarray,\n",
    "    sampling_rate: int,\n",
    "    frame_length: int,\n",
    "    frame_shift: int = None,\n",
    ") -> list[np.ndarray]:\n",
    "    if frame_shift is None:\n",
    "        frame_shift = frame_length\n",
    "\n",
    "    frame_len_samples = np.floor(frame_length * sampling_rate / 1000).astype(int)\n",
    "    frame_shift_samples = np.floor(frame_shift * sampling_rate / 1000).astype(int)\n",
    "    m_frames = []\n",
    "    frame_centers = []\n",
    "    for i in range(0, len(v_signal) - frame_len_samples, frame_shift_samples):\n",
    "        m_frames.append(v_signal[i : i + frame_len_samples])\n",
    "        frame_centers.append((i + frame_len_samples // 2) * 1000 / sampling_rate)\n",
    "    return np.array(m_frames), np.array(frame_centers)"
   ]
  },
  {
   "attachments": {},
   "cell_type": "markdown",
   "metadata": {},
   "source": [
    "n_frames = (signal_length - frame_length) / frame_shift + 1"
   ]
  },
  {
   "attachments": {},
   "cell_type": "markdown",
   "metadata": {},
   "source": [
    "## 1. Short-time Fourier Transform"
   ]
  },
  {
   "cell_type": "code",
   "execution_count": 18,
   "metadata": {},
   "outputs": [],
   "source": [
    "def compute_stft(\n",
    "    v_signal: np.ndarray,\n",
    "    fs: int,\n",
    "    frame_length: int,\n",
    "    frame_shift: int,\n",
    "    v_analysis_window: np.ndarray,\n",
    ") -> list[np.ndarray]:\n",
    "    \"\"\"Compute the short-time Fourier transform of a signal.\"\"\"\n"
   ]
  },
  {
   "cell_type": "code",
   "execution_count": 19,
   "metadata": {},
   "outputs": [
    {
     "data": {
      "text/plain": [
       "(2.841625, 's')"
      ]
     },
     "execution_count": 19,
     "metadata": {},
     "output_type": "execute_result"
    }
   ],
   "source": [
    "s1, sampling_rate = librosa.core.load(\"Audio/speech1.wav\", sr=None)\n",
    "len(s1) / sampling_rate, \"s\""
   ]
  },
  {
   "cell_type": "code",
   "execution_count": null,
   "metadata": {},
   "outputs": [],
   "source": []
  }
 ],
 "metadata": {
  "kernelspec": {
   "display_name": "ds_venv",
   "language": "python",
   "name": "python3"
  },
  "language_info": {
   "codemirror_mode": {
    "name": "ipython",
    "version": 3
   },
   "file_extension": ".py",
   "mimetype": "text/x-python",
   "name": "python",
   "nbconvert_exporter": "python",
   "pygments_lexer": "ipython3",
   "version": "3.9.9"
  },
  "orig_nbformat": 4
 },
 "nbformat": 4,
 "nbformat_minor": 2
}
