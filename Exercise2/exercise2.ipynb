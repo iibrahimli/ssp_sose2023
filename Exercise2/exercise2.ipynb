{
 "cells": [
  {
   "cell_type": "code",
   "execution_count": null,
   "metadata": {},
   "outputs": [],
   "source": [
    "import numpy as np\n",
    "import librosa\n",
    "from scipy.signal import get_window\n",
    "import matplotlib.pyplot as plt\n",
    "\n",
    "%matplotlib inline\n",
    "plt.rcParams[\"figure.figsize\"] = (14, 5)"
   ]
  },
  {
   "attachments": {},
   "cell_type": "markdown",
   "metadata": {},
   "source": [
    "#### \"Import\" some functions from Exercise 1 (using an ugly hack)"
   ]
  },
  {
   "cell_type": "code",
   "execution_count": null,
   "metadata": {},
   "outputs": [],
   "source": [
    "import requests\n",
    "\n",
    "gist = requests.get(\n",
    "    \"https://gist.githubusercontent.com/iibrahimli/3c50f73020c78aeee1de68ae5a0ba5e7/raw/import_funcs.py\"\n",
    ").text\n",
    "print(\"Downloaded import_funcs.py\")\n",
    "exec(gist)\n",
    "\n",
    "import_function_from_ipynb(\n",
    "    \"exercise1.ipynb\",\n",
    "    [\n",
    "        \"my_windowing\",\n",
    "        \"acf\",\n",
    "        \"estimate_fundamental_frequency\",\n",
    "        \"plot_signal\",\n",
    "    ],\n",
    ")\n"
   ]
  },
  {
   "cell_type": "code",
   "execution_count": null,
   "metadata": {},
   "outputs": [],
   "source": [
    "my_windowing, acf, estimate_fundamental_frequency"
   ]
  },
  {
   "attachments": {},
   "cell_type": "markdown",
   "metadata": {},
   "source": [
    "## 1. Short-time Fourier Transform"
   ]
  },
  {
   "cell_type": "code",
   "execution_count": null,
   "metadata": {},
   "outputs": [],
   "source": [
    "def compute_stft(\n",
    "    v_signal: np.ndarray,\n",
    "    fs: int,\n",
    "    frame_length: int,\n",
    "    frame_shift: int,\n",
    "    v_analysis_window: np.ndarray,\n",
    ") -> list[np.ndarray]:\n",
    "    \"\"\"Compute the short-time Fourier transform of a signal.\"\"\"\n",
    "    frames, frame_centers = my_windowing(v_signal, fs, frame_length, frame_shift)\n",
    "    frames *= v_analysis_window\n",
    "    spectrum = np.fft.fft(frames, axis=1)\n",
    "    # remove upper half of the spectrum\n",
    "    spectrum = spectrum[:, : spectrum.shape[1] // 2 + 1]\n",
    "\n",
    "    # check with np.fft.rfft\n",
    "    spectrum2 = np.fft.rfft(frames, axis=1)\n",
    "    print(\"Output matches np.fft.rfft:\", np.allclose(spectrum, spectrum2))\n",
    "\n",
    "    return spectrum, frame_centers"
   ]
  },
  {
   "cell_type": "code",
   "execution_count": null,
   "metadata": {},
   "outputs": [],
   "source": [
    "s1, sampling_rate = librosa.core.load(\"Audio/speech1.wav\", sr=None)\n",
    "print(len(s1) / sampling_rate, \"s\")\n",
    "\n",
    "s2, sampling_rate = librosa.core.load(\"Audio/phone.wav\", sr=None)\n",
    "print(len(s2) / sampling_rate, \"s\")"
   ]
  },
  {
   "cell_type": "code",
   "execution_count": null,
   "metadata": {},
   "outputs": [],
   "source": [
    "m_stft, frame_centers = compute_stft(s1, sampling_rate, 25, 10, np.hamming(25 * sampling_rate // 1000))"
   ]
  },
  {
   "attachments": {},
   "cell_type": "markdown",
   "metadata": {},
   "source": [
    "## 2. Spectral analysis"
   ]
  },
  {
   "attachments": {},
   "cell_type": "markdown",
   "metadata": {},
   "source": [
    "### a) Log magnitude spectrogram"
   ]
  },
  {
   "cell_type": "code",
   "execution_count": null,
   "metadata": {},
   "outputs": [],
   "source": [
    "def plot_log_spectrogram(\n",
    "    signal: np.ndarray,\n",
    "    sampling_rate: int,\n",
    "    frame_length: int = 32,\n",
    "    frame_shift: int = 8,\n",
    "    threshold: float = None,\n",
    "    plt_show: bool = True,\n",
    ") -> None:\n",
    "    \"\"\"Plot the log spectrogram of a signal.\"\"\"\n",
    "    m_stft, v_time = compute_stft(\n",
    "        signal,\n",
    "        sampling_rate,\n",
    "        frame_length,\n",
    "        frame_shift,\n",
    "        get_window(\"hann\", frame_length * sampling_rate // 1000),\n",
    "    )\n",
    "\n",
    "    magnitude = 10 * np.log10(np.maximum(np.square(np.abs(m_stft.T)), 10 ** (-15)))\n",
    "\n",
    "    v_freq = np.linspace(0, sampling_rate / 2, magnitude.shape[0])\n",
    "\n",
    "    fig = plt.figure()\n",
    "    ax = fig.add_subplot(111)\n",
    "    im = ax.imshow(\n",
    "        magnitude,\n",
    "        cmap=\"viridis\",\n",
    "        origin=\"lower\",\n",
    "        extent=[v_time[0], v_time[-1], v_freq[0], v_freq[-1]],\n",
    "        aspect=\"auto\",\n",
    "    )\n",
    "\n",
    "    if threshold is not None:\n",
    "        # plot parts of the spectrogram that are above the threshold\n",
    "        ax.contour(\n",
    "            v_time,\n",
    "            v_freq,\n",
    "            magnitude,\n",
    "            levels=[threshold],\n",
    "            colors=\"red\",\n",
    "            linestyles=\"solid\",\n",
    "            linewidths=1,\n",
    "        )\n",
    "\n",
    "    fig.colorbar(im, orientation=\"vertical\", pad=0.01)\n",
    "    im.colorbar.set_label(\"Magnitude [dB]\", rotation=270, labelpad=15)\n",
    "\n",
    "    ax.set_title(f\"Spectrogram \\n (frame length: {frame_length} ms, frame shift: {frame_shift} ms)\")\n",
    "    ax.set_xlabel(\"Time [ms]\")\n",
    "    ax.set_ylabel(\"Frequency [Hz]\")\n",
    "    # ax.set_yscale(\"log\")\n",
    "\n",
    "    fig.tight_layout()\n",
    "    if plt_show:\n",
    "        plt.show()"
   ]
  },
  {
   "cell_type": "code",
   "execution_count": null,
   "metadata": {},
   "outputs": [],
   "source": [
    "plot_log_spectrogram(s1, sampling_rate, frame_length=32, frame_shift=8)"
   ]
  },
  {
   "cell_type": "code",
   "execution_count": null,
   "metadata": {},
   "outputs": [],
   "source": [
    "plot_log_spectrogram(s2, sampling_rate, frame_length=32, frame_shift=8)"
   ]
  },
  {
   "attachments": {},
   "cell_type": "markdown",
   "metadata": {},
   "source": [
    "### c) Frame length = 8 ms, frame shift = 2 ms"
   ]
  },
  {
   "cell_type": "code",
   "execution_count": null,
   "metadata": {},
   "outputs": [],
   "source": [
    "plot_log_spectrogram(s1, sampling_rate, frame_length=8, frame_shift=2)"
   ]
  },
  {
   "cell_type": "code",
   "execution_count": null,
   "metadata": {},
   "outputs": [],
   "source": [
    "plot_log_spectrogram(s2, sampling_rate, frame_length=8, frame_shift=2)"
   ]
  },
  {
   "attachments": {},
   "cell_type": "markdown",
   "metadata": {},
   "source": [
    "### c) Frame length = 128 ms, frame shift = 32 ms"
   ]
  },
  {
   "cell_type": "code",
   "execution_count": null,
   "metadata": {},
   "outputs": [],
   "source": [
    "plot_log_spectrogram(s1, sampling_rate, frame_length=128, frame_shift=32)"
   ]
  },
  {
   "cell_type": "code",
   "execution_count": null,
   "metadata": {},
   "outputs": [],
   "source": [
    "plot_log_spectrogram(s2, sampling_rate, frame_length=128, frame_shift=32)"
   ]
  },
  {
   "attachments": {},
   "cell_type": "markdown",
   "metadata": {},
   "source": [
    "We can observe the tradeoff between time and frequency resolution: longer frames (windows) give a better frequency resolution at the cost of decreased time resolution."
   ]
  },
  {
   "attachments": {},
   "cell_type": "markdown",
   "metadata": {},
   "source": [
    "### d) Fundamental frequency"
   ]
  },
  {
   "cell_type": "code",
   "execution_count": null,
   "metadata": {},
   "outputs": [],
   "source": [
    "# compute fundamental frequency\n",
    "frames, frame_centers = my_windowing(s1, sampling_rate, 32, 8)\n",
    "acf_frames = acf(frames)\n",
    "f0 = estimate_fundamental_frequency(acf_frames, sampling_freq=sampling_rate, min_freq=80, max_freq=400)\n",
    "f0.shape"
   ]
  },
  {
   "cell_type": "code",
   "execution_count": null,
   "metadata": {},
   "outputs": [],
   "source": [
    "plot_log_spectrogram(s1, sampling_rate, frame_length=32, frame_shift=8, plt_show=False)\n",
    "\n",
    "# plot fundamental frequency on top of spectrogram\n",
    "n_harmonics = 1\n",
    "for i in range(1, n_harmonics + 1):\n",
    "    plt.plot(frame_centers, f0 * i, color=\"red\", linewidth=2, alpha=0.8)\n",
    "\n",
    "plt.show()"
   ]
  },
  {
   "attachments": {},
   "cell_type": "markdown",
   "metadata": {},
   "source": [
    "We can see the fundamental frequency (in red) matches the frequency of the first peak in the spectrum."
   ]
  },
  {
   "cell_type": "code",
   "execution_count": null,
   "metadata": {},
   "outputs": [],
   "source": [
    "plot_log_spectrogram(s1, sampling_rate, frame_length=32, frame_shift=8, plt_show=False)\n",
    "\n",
    "# plot fundamental frequency on top of spectrogram\n",
    "n_harmonics = 10\n",
    "for i in range(n_harmonics):\n",
    "    plt.plot(frame_centers, f0 * i, color=\"red\", linewidth=2, alpha=0.7)\n",
    "\n",
    "plt.show()"
   ]
  },
  {
   "attachments": {},
   "cell_type": "markdown",
   "metadata": {},
   "source": [
    "With 10 harmonics plotted, the alignment between the peaks and the harmonics is not perfect, but it is still possible to see the harmonics."
   ]
  },
  {
   "attachments": {},
   "cell_type": "markdown",
   "metadata": {},
   "source": [
    "## 3) Inverse STFT"
   ]
  },
  {
   "cell_type": "code",
   "execution_count": null,
   "metadata": {},
   "outputs": [],
   "source": [
    "from code_exercise2 import compute_istft"
   ]
  },
  {
   "attachments": {},
   "cell_type": "markdown",
   "metadata": {},
   "source": [
    "### Test signal"
   ]
  },
  {
   "cell_type": "code",
   "execution_count": null,
   "metadata": {},
   "outputs": [],
   "source": [
    "frame_length = 32\n",
    "frame_shift = 16\n",
    "sampling_rate = 16000\n",
    "\n",
    "v_test_signal = np.ones(2048)"
   ]
  },
  {
   "attachments": {},
   "cell_type": "markdown",
   "metadata": {},
   "source": [
    "### 1. STFT of the test signal"
   ]
  },
  {
   "cell_type": "code",
   "execution_count": null,
   "metadata": {},
   "outputs": [],
   "source": [
    "sqrt_hann = np.sqrt(get_window(\"hann\", frame_length * sampling_rate // 1000))\n",
    "\n",
    "m_stft, frame_centers = compute_stft(v_test_signal, sampling_rate, frame_length, frame_shift, sqrt_hann)"
   ]
  },
  {
   "attachments": {},
   "cell_type": "markdown",
   "metadata": {},
   "source": [
    "### 2. Resynthesis of the test signal"
   ]
  },
  {
   "cell_type": "code",
   "execution_count": null,
   "metadata": {},
   "outputs": [],
   "source": [
    "v_reconstructed_signal = compute_istft(m_stft, frame_length, frame_shift, sqrt_hann)\n",
    "v_reconstructed_signal.shape"
   ]
  },
  {
   "cell_type": "code",
   "execution_count": null,
   "metadata": {},
   "outputs": [],
   "source": [
    "plot_signal(v_test_signal, sampling_rate, title=\"Original signal\")"
   ]
  },
  {
   "cell_type": "code",
   "execution_count": null,
   "metadata": {},
   "outputs": [],
   "source": [
    "plot_signal(v_reconstructed_signal, sampling_rate, title=\"Reconstructed signal\")"
   ]
  },
  {
   "attachments": {},
   "cell_type": "markdown",
   "metadata": {},
   "source": [
    "> NOTE: the reconstructed signal has the length of 512, while the original has 2048 samples"
   ]
  }
 ],
 "metadata": {
  "kernelspec": {
   "display_name": "ds_venv",
   "language": "python",
   "name": "python3"
  },
  "language_info": {
   "codemirror_mode": {
    "name": "ipython",
    "version": 3
   },
   "file_extension": ".py",
   "mimetype": "text/x-python",
   "name": "python",
   "nbconvert_exporter": "python",
   "pygments_lexer": "ipython3",
   "version": "3.9.12"
  },
  "orig_nbformat": 4
 },
 "nbformat": 4,
 "nbformat_minor": 2
}
