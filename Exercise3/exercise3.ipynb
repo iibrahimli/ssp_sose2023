{
 "cells": [
  {
   "cell_type": "code",
   "execution_count": 2,
   "metadata": {},
   "outputs": [],
   "source": [
    "import numpy as np\n",
    "import librosa\n",
    "from scipy.signal import get_window\n",
    "import matplotlib.pyplot as plt\n",
    "\n",
    "%matplotlib inline\n",
    "plt.rcParams[\"figure.figsize\"] = (14, 5)"
   ]
  },
  {
   "cell_type": "code",
   "execution_count": 3,
   "metadata": {},
   "outputs": [
    {
     "name": "stdout",
     "output_type": "stream",
     "text": [
      "Downloaded import_funcs.py\n",
      "Found exercise1.ipynb: /home/shrey/Desktop/ssp_sose2023/Exercise1/exercise1.ipynb\n",
      "Executed function plot_signal\n",
      "Executed function my_windowing\n",
      "Executed function acf\n",
      "Executed function estimate_fundamental_frequency\n",
      "Successfully imported functions: ['plot_signal', 'my_windowing', 'acf', 'estimate_fundamental_frequency']\n"
     ]
    }
   ],
   "source": [
    "import requests\n",
    "\n",
    "gist = requests.get(\n",
    "    \"https://gist.githubusercontent.com/iibrahimli/3c50f73020c78aeee1de68ae5a0ba5e7/raw/import_funcs.py\"\n",
    ").text\n",
    "print(\"Downloaded import_funcs.py\")\n",
    "exec(gist)\n",
    "\n",
    "import_function_from_ipynb(\n",
    "    \"exercise1.ipynb\",\n",
    "    [\n",
    "        \"my_windowing\",\n",
    "        \"acf\",\n",
    "        \"estimate_fundamental_frequency\",\n",
    "        \"plot_signal\",\n",
    "    ],\n",
    ")\n"
   ]
  },
  {
   "cell_type": "code",
   "execution_count": 4,
   "metadata": {},
   "outputs": [
    {
     "name": "stdout",
     "output_type": "stream",
     "text": [
      "2.841625 s\n"
     ]
    }
   ],
   "source": [
    "s, sampling_rate = librosa.core.load(\"Audio/speech1.wav\", sr=None)\n",
    "print(len(s) / sampling_rate, \"s\")"
   ]
  },
  {
   "cell_type": "code",
   "execution_count": 5,
   "metadata": {},
   "outputs": [],
   "source": [
    "voiced = s[400 * sampling_rate // 1000: (400 * sampling_rate // 1000) + (32 * sampling_rate // 1000)]\n",
    "unvoiced = s[550 * sampling_rate // 1000: (550 * sampling_rate // 1000) + (32 * sampling_rate // 1000)]"
   ]
  },
  {
   "cell_type": "code",
   "execution_count": null,
   "metadata": {},
   "outputs": [],
   "source": []
  }
 ],
 "metadata": {
  "kernelspec": {
   "display_name": "Python 3.10.11 ('ssp')",
   "language": "python",
   "name": "python3"
  },
  "language_info": {
   "codemirror_mode": {
    "name": "ipython",
    "version": 3
   },
   "file_extension": ".py",
   "mimetype": "text/x-python",
   "name": "python",
   "nbconvert_exporter": "python",
   "pygments_lexer": "ipython3",
   "version": "3.10.11"
  },
  "orig_nbformat": 4,
  "vscode": {
   "interpreter": {
    "hash": "5bb01aeb8deb13441ab3a39187f593c8e354f4ccff4d59fb887fa51c90c62e13"
   }
  }
 },
 "nbformat": 4,
 "nbformat_minor": 2
}
